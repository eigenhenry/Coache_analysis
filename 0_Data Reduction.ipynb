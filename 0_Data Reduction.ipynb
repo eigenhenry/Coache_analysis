{
 "cells": [
  {
   "cell_type": "markdown",
   "metadata": {},
   "source": [
    "# Henry Salgado\n",
    "# Summer 2024\n",
    "\n",
    "This notebook is used to clean and select sample populations from the complete data set.\n"
   ]
  },
  {
   "cell_type": "code",
   "execution_count": 2,
   "metadata": {},
   "outputs": [],
   "source": [
    "import pandas as pd"
   ]
  },
  {
   "cell_type": "code",
   "execution_count": 3,
   "metadata": {},
   "outputs": [
    {
     "name": "stderr",
     "output_type": "stream",
     "text": [
      "/Users/henrysalgado/opt/anaconda3/lib/python3.8/site-packages/IPython/core/interactiveshell.py:3165: DtypeWarning: Columns (12,43) have mixed types.Specify dtype option on import or set low_memory=False.\n",
      "  has_raised = await self.run_ast_nodes(code_ast.body, cell_name,\n"
     ]
    }
   ],
   "source": [
    "df = pd.read_csv('/Users/henrysalgado/PycharmProjects/CoacheSEM/researcher-internal-maindata-2020-to-2012_HSI.csv')"
   ]
  },
  {
   "cell_type": "code",
   "execution_count": 4,
   "metadata": {},
   "outputs": [
    {
     "data": {
      "text/plain": [
       "(242974, 537)"
      ]
     },
     "execution_count": 4,
     "metadata": {},
     "output_type": "execute_result"
    }
   ],
   "source": [
    "df.shape"
   ]
  },
  {
   "cell_type": "markdown",
   "metadata": {},
   "source": [
    "Data Exploration: Majority of faculty are Tenured Faculty"
   ]
  },
  {
   "cell_type": "code",
   "execution_count": 5,
   "metadata": {},
   "outputs": [
    {
     "name": "stdout",
     "output_type": "stream",
     "text": [
      "1: Non-Tenure Track | 2: Tenure Track, 3: Tenured \n",
      "3.0    69729\n",
      "2.0    25347\n",
      "1.0    25289\n",
      "Name: surv_tenure_final, dtype: int64\n"
     ]
    }
   ],
   "source": [
    "# Creating a copy of the full data set - this will be used to remove unnecessary data\n",
    "df_cleaned = df.copy()\n",
    "\n",
    "counts = df_cleaned['surv_tenure_final'].value_counts()\n",
    "print(\"1: Non-Tenure Track | 2: Tenure Track, 3: Tenured \")\n",
    "print(counts)"
   ]
  },
  {
   "cell_type": "markdown",
   "metadata": {},
   "source": [
    "Data Exploration: HSI sample is rougly 40K "
   ]
  },
  {
   "cell_type": "code",
   "execution_count": 6,
   "metadata": {},
   "outputs": [
    {
     "name": "stdout",
     "output_type": "stream",
     "text": [
      "Number of Non-HSI (0) vs HSI (1) Entries:\n"
     ]
    },
    {
     "data": {
      "text/plain": [
       "0    203396\n",
       "1     39578\n",
       "Name: hacu_hsi, dtype: int64"
      ]
     },
     "execution_count": 6,
     "metadata": {},
     "output_type": "execute_result"
    }
   ],
   "source": [
    "hsi_count = df_cleaned['hacu_hsi'].value_counts()\n",
    "print(\"Number of Non-HSI (0) vs HSI (1) Entries:\")\n",
    "hsi_count"
   ]
  },
  {
   "cell_type": "markdown",
   "metadata": {},
   "source": [
    "Cleaning : Pulling only HSI Faculty in STEM academic areas"
   ]
  },
  {
   "cell_type": "code",
   "execution_count": 16,
   "metadata": {},
   "outputs": [
    {
     "name": "stdout",
     "output_type": "stream",
     "text": [
      "Number of HSI STEM Faculty\n"
     ]
    },
    {
     "data": {
      "text/plain": [
       "(10317, 537)"
      ]
     },
     "execution_count": 16,
     "metadata": {},
     "output_type": "execute_result"
    }
   ],
   "source": [
    "df_STEM_HSI = df_cleaned[(df_cleaned['demo_acarea'].isin([13,14, 16, 23])) & (df_cleaned['hacu_hsi'] == 1)]\n",
    "print(\"Number of HSI STEM Faculty\")\n",
    "df_STEM_HSI.shape"
   ]
  },
  {
   "cell_type": "markdown",
   "metadata": {},
   "source": [
    "Cleaning: Only where survey is Cheater Speed is not \"2: Yes\" "
   ]
  },
  {
   "cell_type": "code",
   "execution_count": 17,
   "metadata": {},
   "outputs": [
    {
     "data": {
      "text/plain": [
       "(10302, 537)"
      ]
     },
     "execution_count": 17,
     "metadata": {},
     "output_type": "execute_result"
    }
   ],
   "source": [
    "df_STEM_HSI = df_STEM_HSI[df_STEM_HSI['surv_speeder_status'] != 2]\n",
    "df_STEM_HSI.shape\n"
   ]
  },
  {
   "cell_type": "markdown",
   "metadata": {},
   "source": [
    "Cleaning: Considered \"1: Complete\" by Harvard "
   ]
  },
  {
   "cell_type": "code",
   "execution_count": 18,
   "metadata": {},
   "outputs": [
    {
     "data": {
      "text/plain": [
       "(4526, 537)"
      ]
     },
     "execution_count": 18,
     "metadata": {},
     "output_type": "execute_result"
    }
   ],
   "source": [
    "df_STEM_HSI = df_STEM_HSI[df_STEM_HSI['surv_is_complete'] == 1]\n",
    "df_STEM_HSI.shape"
   ]
  },
  {
   "cell_type": "code",
   "execution_count": 19,
   "metadata": {},
   "outputs": [
    {
     "data": {
      "text/plain": [
       "4526"
      ]
     },
     "execution_count": 19,
     "metadata": {},
     "output_type": "execute_result"
    }
   ],
   "source": [
    "df_STEM_HSI['surv_tenure_final'].value_counts()\n",
    "sum(df_STEM_HSI['surv_tenure_final'].value_counts())\n"
   ]
  },
  {
   "cell_type": "code",
   "execution_count": 20,
   "metadata": {},
   "outputs": [
    {
     "name": "stdout",
     "output_type": "stream",
     "text": [
      "----------------------\n",
      "1: Non-Tenure Track | 2: Tenure Track, 3: Tenured \n",
      "3.0    2984\n",
      "2.0    1037\n",
      "1.0     505\n",
      "Name: surv_tenure_final, dtype: int64\n",
      "----------------------\n",
      "Distribution in NTT\n",
      "1.0    505\n",
      "Name: surv_tenure_final, dtype: int64\n",
      "----------------------\n",
      "Distribution in CC T and TT\n",
      "3.0    293\n",
      "2.0    173\n",
      "Name: surv_tenure_final, dtype: int64\n",
      "----------------------\n",
      "NTT HSI STEM Faculty : (971, 537)\n"
     ]
    }
   ],
   "source": [
    "# Printing faculty type counts with labels\n",
    "import numpy as np\n",
    "\n",
    "print(\"----------------------\")\n",
    "\n",
    "print(\"1: Non-Tenure Track | 2: Tenure Track, 3: Tenured \")\n",
    "faculty_type = df_STEM_HSI['surv_tenure_final'].value_counts()\n",
    "print(faculty_type)\n",
    "\n",
    "print(\"----------------------\")\n",
    "\n",
    "# Filter STEM NTT faculty, including those in CCs\n",
    "ntt_stem = df_STEM_HSI[df_STEM_HSI['surv_tenure_final'] == 1]  \n",
    "#print(\"STEM NTT Sample :\", ntt_stem.shape)\n",
    "\n",
    "print(\"Distribution in NTT\")\n",
    "print(ntt_stem['surv_tenure_final'].value_counts())\n",
    "\n",
    "# Filter for all faculty types (excluding NTT) at Community Colleges\n",
    "cc_stem_tenure = df_STEM_HSI[\n",
    "    (df_STEM_HSI['surv_tenure_final'].isin([2, 3])) &  # Tenure Track or Tenured\n",
    "    (df_STEM_HSI['demo_inst_carnegie_class'].isin(range(1, 15)))  # Community Colleges (1-14)\n",
    "]\n",
    "\n",
    "print(\"----------------------\")\n",
    "print(\"Distribution in CC T and TT\")\n",
    "print(cc_stem_tenure['surv_tenure_final'].value_counts())\n",
    "\n",
    "\n",
    "print(\"----------------------\")\n",
    "\n",
    "\n",
    "# Combine NTT and Tenure Track/Tenured faculty at Community Colleges (optional)\n",
    "hsi_stem_instructional = pd.concat([ntt_stem, cc_stem_tenure])\n",
    "\n",
    "print(\"NTT HSI STEM Faculty :\", hsi_stem_instructional.shape)\n",
    "\n"
   ]
  },
  {
   "cell_type": "code",
   "execution_count": 27,
   "metadata": {},
   "outputs": [
    {
     "data": {
      "text/plain": [
       "3.0    2691\n",
       "2.0     864\n",
       "Name: surv_tenure_final, dtype: int64"
      ]
     },
     "execution_count": 27,
     "metadata": {},
     "output_type": "execute_result"
    }
   ],
   "source": [
    "# Sample of Tenure Track or Tenured Faculty\n",
    "\n",
    "HSI_stem_tenure = df_STEM_HSI[\n",
    "    (df_STEM_HSI['surv_tenure_final'].isin([2, 3])) &  # Tenure Track or Tenured\n",
    "    (~df_STEM_HSI['demo_inst_carnegie_class'].isin([1, 2, 3, 4, 5, 6, 7, 8, 9, 10, 11, 12, 13, 14]))  # Not Community Colleges (1-14)\n",
    "]\n",
    "\n",
    "HSI_stem_tenure['surv_tenure_final'].value_counts()\n"
   ]
  },
  {
   "cell_type": "markdown",
   "metadata": {},
   "source": [
    "Labeling this population as NOT instructional faculty, with a 0"
   ]
  },
  {
   "cell_type": "code",
   "execution_count": 35,
   "metadata": {},
   "outputs": [
    {
     "name": "stderr",
     "output_type": "stream",
     "text": [
      "<ipython-input-35-05a7cdcbebd5>:1: SettingWithCopyWarning: \n",
      "A value is trying to be set on a copy of a slice from a DataFrame.\n",
      "Try using .loc[row_indexer,col_indexer] = value instead\n",
      "\n",
      "See the caveats in the documentation: https://pandas.pydata.org/pandas-docs/stable/user_guide/indexing.html#returning-a-view-versus-a-copy\n",
      "  HSI_stem_tenure['instructional'] = 0\n"
     ]
    },
    {
     "data": {
      "text/plain": [
       "(3555, 538)"
      ]
     },
     "execution_count": 35,
     "metadata": {},
     "output_type": "execute_result"
    }
   ],
   "source": [
    "HSI_stem_tenure['instructional'] = 0\n",
    "HSI_stem_tenure.shape"
   ]
  },
  {
   "cell_type": "markdown",
   "metadata": {},
   "source": [
    "Labeling instructional faculty as \"instructional\" with a 1"
   ]
  },
  {
   "cell_type": "code",
   "execution_count": 42,
   "metadata": {},
   "outputs": [
    {
     "data": {
      "text/plain": [
       "(971, 538)"
      ]
     },
     "execution_count": 42,
     "metadata": {},
     "output_type": "execute_result"
    }
   ],
   "source": [
    "hsi_stem_instructional['instructional'] = 1\n",
    "hsi_stem_instructional.shape"
   ]
  },
  {
   "cell_type": "code",
   "execution_count": 45,
   "metadata": {},
   "outputs": [],
   "source": [
    "hsi_stem_complete = pd.concat([HSI_stem_tenure, hsi_stem_instructional], ignore_index=True)\n",
    "hsi_stem_complete.shape\n",
    "\n",
    "hsi_stem_complete.to_csv('hsi_stem_complete.csv')"
   ]
  },
  {
   "cell_type": "code",
   "execution_count": null,
   "metadata": {},
   "outputs": [],
   "source": [
    "num_unique_values = hsi_stem_instructional['demo_inst_id'].nunique()\n",
    "print(num_unique_values)\n"
   ]
  },
  {
   "cell_type": "code",
   "execution_count": 37,
   "metadata": {},
   "outputs": [
    {
     "data": {
      "image/png": "[encoded data removed]",
      "text/plain": [
       "<Figure size 576x432 with 1 Axes>"
      ]
     },
     "metadata": {},
     "output_type": "display_data"
    }
   ],
   "source": [
    "import matplotlib.pyplot as plt\n",
    "\n",
    "# Get faculty type counts\n",
    "faculty_type = hsi_stem_instructional['surv_tenure_final'].value_counts()\n",
    "\n",
    "# Configure the pie chart\n",
    "plt.figure(figsize=(8, 6))  # Adjust figure size as desired\n",
    "faculty_type.plot(kind='pie', autopct='%1.1f%%', labels=None)  # Set labels\n",
    "\n",
    "# Customize the plot (optional)\n",
    "plt.title(\"Faculty Tenure Status Distribution (STEM)\")\n",
    "plt.legend(faculty_type.index, loc=\"upper left\", title=\"Tenure Status\")  # Set legend labels\n",
    "\n",
    "plt.show()\n",
    "\n",
    "hsi_stem_instructional.to_excel(\"hsi_stem_instructional.xlsx\", index=False)"
   ]
  }
 ],
 "metadata": {
  "kernelspec": {
   "display_name": "base",
   "language": "python",
   "name": "python3"
  },
  "language_info": {
   "codemirror_mode": {
    "name": "ipython",
    "version": 3
   },
   "file_extension": ".py",
   "mimetype": "text/x-python",
   "name": "python",
   "nbconvert_exporter": "python",
   "pygments_lexer": "ipython3",
   "version": "3.8.8"
  }
 },
 "nbformat": 4,
 "nbformat_minor": 2
}
