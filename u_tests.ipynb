{
 "cells": [
  {
   "cell_type": "markdown",
   "metadata": {},
   "source": [
    "\n",
    "# Henry Salgado\n",
    "# 10.05.24\n",
    "\n",
    "This notebook performs a variety of U-test on several items, comparing samples Tenure vs Instructional Faculty"
   ]
  },
  {
   "cell_type": "code",
   "execution_count": 6,
   "metadata": {},
   "outputs": [],
   "source": [
    "import pandas as pd\n",
    "import numpy as np\n",
    "import scipy "
   ]
  },
  {
   "cell_type": "code",
   "execution_count": 7,
   "metadata": {},
   "outputs": [],
   "source": [
    "data = pd.read_csv(\"hsi_stem_complete.csv\")\n",
    "satisfaction = data['q245d']"
   ]
  },
  {
   "cell_type": "markdown",
   "metadata": {},
   "source": [
    "A Mann-Whitney U test was conducted to determine if there was a difference in satisfaction between instructional and tenure-track faculty. The test revealed a statistically significant difference, 𝑝 < 0.001\n",
    "\n",
    "This indicates that there is a statistically significant difference in overall satisfaction between the two groups (instructional vs. tenure-track faculty).\n"
   ]
  },
  {
   "cell_type": "markdown",
   "metadata": {},
   "source": [
    "Q245D\tI would again choose this institution"
   ]
  },
  {
   "cell_type": "code",
   "execution_count": 10,
   "metadata": {},
   "outputs": [
    {
     "name": "stdout",
     "output_type": "stream",
     "text": [
      "Mann-Whitney U Test Statistic: 1477960.5\n",
      "p-value: 1.1391915361436738e-12\n"
     ]
    }
   ],
   "source": [
    "from scipy.stats import mannwhitneyu\n",
    "# Subset data into instructional and tenure-track faculty\n",
    "instructional = data[data['instructional'] == 1]['q245d'] \n",
    "tenure = data[data['instructional'] == 0]['q245d']  \n",
    "\n",
    "# Performing the Mann-Whitney U test\n",
    "stat, p_value = mannwhitneyu(instructional, tenure)\n",
    "\n",
    "# Output the test result\n",
    "print(f'Mann-Whitney U Test Statistic: {stat}')\n",
    "print(f'p-value: {p_value}')\n"
   ]
  },
  {
   "cell_type": "markdown",
   "metadata": {},
   "source": [
    "Effect Size\n",
    "\n",
    "0.1 = small effect\n",
    "0.3 = medium effect\n",
    "0.5 = large effect"
   ]
  },
  {
   "cell_type": "code",
   "execution_count": 13,
   "metadata": {},
   "outputs": [
    {
     "name": "stdout",
     "output_type": "stream",
     "text": [
      "Instruction n =  971\n",
      "Tenure n =  3555\n",
      "Effect Size (r): 0.10572263781567125\n"
     ]
    }
   ],
   "source": [
    "import numpy as np\n",
    "from scipy.stats import norm\n",
    "\n",
    "# Calculate effect size r\n",
    "n1 = len(instructional)\n",
    "n2 = len(tenure)\n",
    "z = abs(norm.ppf(p_value / 2))  # Z-score for the p-value\n",
    "effect_size = z / np.sqrt(n1 + n2)\n",
    "\n",
    "print(\"Instruction n = \", n1)\n",
    "print(\"Tenure n = \", n2)\n",
    "\n",
    "print(f'Effect Size (r): {effect_size}')\n"
   ]
  },
  {
   "cell_type": "markdown",
   "metadata": {},
   "source": [
    "Q250B\tInstitution as a place to work"
   ]
  },
  {
   "cell_type": "code",
   "execution_count": 14,
   "metadata": {},
   "outputs": [
    {
     "name": "stdout",
     "output_type": "stream",
     "text": [
      "Mann-Whitney U Test Statistic: 1411706.5\n",
      "p-value: 9.467198370715939e-20\n",
      "Effect Size (r): 0.13518880822002913\n"
     ]
    }
   ],
   "source": [
    "instructional = data[data['instructional'] == 1]['q250b'] \n",
    "tenure = data[data['instructional'] == 0]['q250b']  \n",
    "\n",
    "# Performing the Mann-Whitney U test\n",
    "stat, p_value = mannwhitneyu(instructional, tenure)\n",
    "\n",
    "# Output the test result\n",
    "print(f'Mann-Whitney U Test Statistic: {stat}')\n",
    "print(f'p-value: {p_value}')\n",
    "\n",
    "\n",
    "# Calculate effect size r\n",
    "n1 = len(instructional)\n",
    "n2 = len(tenure)\n",
    "z = abs(norm.ppf(p_value / 2))  # Z-score for the p-value\n",
    "effect_size = z / np.sqrt(n1 + n2)\n",
    "\n",
    "\n",
    "print(f'Effect Size (r): {effect_size}')"
   ]
  },
  {
   "cell_type": "markdown",
   "metadata": {},
   "source": [
    "Q250A\tDepartment as a place to work"
   ]
  },
  {
   "cell_type": "code",
   "execution_count": 15,
   "metadata": {},
   "outputs": [
    {
     "name": "stdout",
     "output_type": "stream",
     "text": [
      "Mann-Whitney U Test Statistic: 1505293.0\n",
      "p-value: 1.0930211429235393e-10\n",
      "Effect Size (r): 0.09592625053672707\n"
     ]
    }
   ],
   "source": [
    "instructional = data[data['instructional'] == 1]['q250a'] \n",
    "tenure = data[data['instructional'] == 0]['q250a']  \n",
    "\n",
    "# Performing the Mann-Whitney U test\n",
    "stat, p_value = mannwhitneyu(instructional, tenure)\n",
    "\n",
    "# Output the test result\n",
    "print(f'Mann-Whitney U Test Statistic: {stat}')\n",
    "print(f'p-value: {p_value}')\n",
    "\n",
    "\n",
    "# Calculate effect size r\n",
    "n1 = len(instructional)\n",
    "n2 = len(tenure)\n",
    "z = abs(norm.ppf(p_value / 2))  # Z-score for the p-value\n",
    "effect_size = z / np.sqrt(n1 + n2)\n",
    "\n",
    "\n",
    "print(f'Effect Size (r): {effect_size}')"
   ]
  },
  {
   "cell_type": "markdown",
   "metadata": {},
   "source": [
    "Q205C\tHow well you fit"
   ]
  },
  {
   "cell_type": "code",
   "execution_count": 16,
   "metadata": {},
   "outputs": [
    {
     "name": "stdout",
     "output_type": "stream",
     "text": [
      "Mann-Whitney U Test Statistic: 1601618.0\n",
      "p-value: 0.00018633495336350416\n",
      "Effect Size (r): 0.05554553876893627\n"
     ]
    }
   ],
   "source": [
    "instructional = data[data['instructional'] == 1]['q205c'] \n",
    "tenure = data[data['instructional'] == 0]['q205c']  \n",
    "\n",
    "# Performing the Mann-Whitney U test\n",
    "stat, p_value = mannwhitneyu(instructional, tenure)\n",
    "\n",
    "# Output the test result\n",
    "print(f'Mann-Whitney U Test Statistic: {stat}')\n",
    "print(f'p-value: {p_value}')\n",
    "\n",
    "\n",
    "# Calculate effect size r\n",
    "n1 = len(instructional)\n",
    "n2 = len(tenure)\n",
    "z = abs(norm.ppf(p_value / 2))  # Z-score for the p-value\n",
    "effect_size = z / np.sqrt(n1 + n2)\n",
    "\n",
    "\n",
    "print(f'Effect Size (r): {effect_size}')"
   ]
  },
  {
   "cell_type": "markdown",
   "metadata": {},
   "source": [
    "Q210C\tDepartment is collegial"
   ]
  },
  {
   "cell_type": "code",
   "execution_count": 17,
   "metadata": {},
   "outputs": [
    {
     "name": "stdout",
     "output_type": "stream",
     "text": [
      "Mann-Whitney U Test Statistic: 1584770.0\n",
      "p-value: 2.356868837254337e-05\n",
      "Effect Size (r): 0.0628472991301681\n"
     ]
    }
   ],
   "source": [
    "instructional = data[data['instructional'] == 1]['q210c'] \n",
    "tenure = data[data['instructional'] == 0]['q210c']  \n",
    "\n",
    "# Performing the Mann-Whitney U test\n",
    "stat, p_value = mannwhitneyu(instructional, tenure)\n",
    "\n",
    "# Output the test result\n",
    "print(f'Mann-Whitney U Test Statistic: {stat}')\n",
    "print(f'p-value: {p_value}')\n",
    "\n",
    "\n",
    "# Calculate effect size r\n",
    "n1 = len(instructional)\n",
    "n2 = len(tenure)\n",
    "z = abs(norm.ppf(p_value / 2))  # Z-score for the p-value\n",
    "effect_size = z / np.sqrt(n1 + n2)\n",
    "\n",
    "\n",
    "print(f'Effect Size (r): {effect_size}')"
   ]
  },
  {
   "cell_type": "markdown",
   "metadata": {},
   "source": [
    "Q45A\tTime spent on teaching"
   ]
  },
  {
   "cell_type": "code",
   "execution_count": 18,
   "metadata": {},
   "outputs": [
    {
     "name": "stdout",
     "output_type": "stream",
     "text": [
      "Mann-Whitney U Test Statistic: 1422960.0\n",
      "p-value: 1.2934684926674995e-19\n",
      "Effect Size (r): 0.13468379490414856\n"
     ]
    }
   ],
   "source": [
    "instructional = data[data['instructional'] == 1]['q45a'] \n",
    "tenure = data[data['instructional'] == 0]['q45a']  \n",
    "\n",
    "# Performing the Mann-Whitney U test\n",
    "stat, p_value = mannwhitneyu(instructional, tenure)\n",
    "\n",
    "# Output the test result\n",
    "print(f'Mann-Whitney U Test Statistic: {stat}')\n",
    "print(f'p-value: {p_value}')\n",
    "\n",
    "\n",
    "# Calculate effect size r\n",
    "n1 = len(instructional)\n",
    "n2 = len(tenure)\n",
    "z = abs(norm.ppf(p_value / 2))  # Z-score for the p-value\n",
    "effect_size = z / np.sqrt(n1 + n2)\n",
    "\n",
    "\n",
    "print(f'Effect Size (r): {effect_size}')"
   ]
  },
  {
   "cell_type": "markdown",
   "metadata": {},
   "source": [
    "Q200A\tRight balance between professional/personal"
   ]
  },
  {
   "cell_type": "code",
   "execution_count": 19,
   "metadata": {},
   "outputs": [
    {
     "name": "stdout",
     "output_type": "stream",
     "text": [
      "Mann-Whitney U Test Statistic: 1555444.5\n",
      "p-value: 5.563595595468208e-07\n",
      "Effect Size (r): 0.0744071344113148\n"
     ]
    }
   ],
   "source": [
    "instructional = data[data['instructional'] == 1]['q200a'] \n",
    "tenure = data[data['instructional'] == 0]['q200a']  \n",
    "\n",
    "# Performing the Mann-Whitney U test\n",
    "stat, p_value = mannwhitneyu(instructional, tenure)\n",
    "\n",
    "# Output the test result\n",
    "print(f'Mann-Whitney U Test Statistic: {stat}')\n",
    "print(f'p-value: {p_value}')\n",
    "\n",
    "\n",
    "# Calculate effect size r\n",
    "n1 = len(instructional)\n",
    "n2 = len(tenure)\n",
    "z = abs(norm.ppf(p_value / 2))  # Z-score for the p-value\n",
    "effect_size = z / np.sqrt(n1 + n2)\n",
    "\n",
    "\n",
    "print(f'Effect Size (r): {effect_size}')"
   ]
  },
  {
   "cell_type": "markdown",
   "metadata": {},
   "source": [
    "Q200B\tInst. supports family/career compatibility"
   ]
  },
  {
   "cell_type": "code",
   "execution_count": 21,
   "metadata": {},
   "outputs": [
    {
     "name": "stdout",
     "output_type": "stream",
     "text": [
      "Mann-Whitney U Test Statistic: 1540253.5\n",
      "p-value: 9.802207820748843e-08\n",
      "Effect Size (r): 0.07923164843435866\n"
     ]
    }
   ],
   "source": [
    "instructional = data[data['instructional'] == 1]['q200b'] \n",
    "tenure = data[data['instructional'] == 0]['q200b']  \n",
    "\n",
    "# Performing the Mann-Whitney U test\n",
    "stat, p_value = mannwhitneyu(instructional, tenure)\n",
    "\n",
    "# Output the test result\n",
    "print(f'Mann-Whitney U Test Statistic: {stat}')\n",
    "print(f'p-value: {p_value}')\n",
    "\n",
    "\n",
    "# Calculate effect size r\n",
    "n1 = len(instructional)\n",
    "n2 = len(tenure)\n",
    "z = abs(norm.ppf(p_value / 2))  # Z-score for the p-value\n",
    "effect_size = z / np.sqrt(n1 + n2)\n",
    "\n",
    "\n",
    "print(f'Effect Size (r): {effect_size}')"
   ]
  },
  {
   "cell_type": "markdown",
   "metadata": {},
   "source": [
    "Q215A\tRecognition: For teaching"
   ]
  },
  {
   "cell_type": "code",
   "execution_count": 22,
   "metadata": {},
   "outputs": [
    {
     "name": "stdout",
     "output_type": "stream",
     "text": [
      "Mann-Whitney U Test Statistic: 1507415.5\n",
      "p-value: 2.657268987656703e-10\n",
      "Effect Size (r): 0.09390571763822203\n"
     ]
    }
   ],
   "source": [
    "instructional = data[data['instructional'] == 1]['q215a'] \n",
    "tenure = data[data['instructional'] == 0]['q215a']  \n",
    "\n",
    "# Performing the Mann-Whitney U test\n",
    "stat, p_value = mannwhitneyu(instructional, tenure)\n",
    "\n",
    "# Output the test result\n",
    "print(f'Mann-Whitney U Test Statistic: {stat}')\n",
    "print(f'p-value: {p_value}')\n",
    "\n",
    "\n",
    "# Calculate effect size r\n",
    "n1 = len(instructional)\n",
    "n2 = len(tenure)\n",
    "z = abs(norm.ppf(p_value / 2))  # Z-score for the p-value\n",
    "effect_size = z / np.sqrt(n1 + n2)\n",
    "\n",
    "\n",
    "print(f'Effect Size (r): {effect_size}')"
   ]
  },
  {
   "cell_type": "markdown",
   "metadata": {},
   "source": [
    "Q215L\tRecognition: From Head/Chair"
   ]
  },
  {
   "cell_type": "code",
   "execution_count": 23,
   "metadata": {},
   "outputs": [
    {
     "name": "stdout",
     "output_type": "stream",
     "text": [
      "Mann-Whitney U Test Statistic: 1696982.5\n",
      "p-value: 0.2066006996567204\n",
      "Effect Size (r): 0.018773059360332422\n"
     ]
    }
   ],
   "source": [
    "instructional = data[data['instructional'] == 1]['q215l'] \n",
    "tenure = data[data['instructional'] == 0]['q215l']  \n",
    "\n",
    "# Performing the Mann-Whitney U test\n",
    "stat, p_value = mannwhitneyu(instructional, tenure)\n",
    "\n",
    "# Output the test result\n",
    "print(f'Mann-Whitney U Test Statistic: {stat}')\n",
    "print(f'p-value: {p_value}')\n",
    "\n",
    "\n",
    "# Calculate effect size r\n",
    "n1 = len(instructional)\n",
    "n2 = len(tenure)\n",
    "z = abs(norm.ppf(p_value / 2))  # Z-score for the p-value\n",
    "effect_size = z / np.sqrt(n1 + n2)\n",
    "\n",
    "\n",
    "print(f'Effect Size (r): {effect_size}')"
   ]
  },
  {
   "cell_type": "markdown",
   "metadata": {},
   "source": [
    "Q265\tRecommend department"
   ]
  },
  {
   "cell_type": "code",
   "execution_count": 20,
   "metadata": {},
   "outputs": [
    {
     "name": "stdout",
     "output_type": "stream",
     "text": [
      "Mann-Whitney U Test Statistic: 1565310.0\n",
      "p-value: 9.924024335881749e-07\n",
      "Effect Size (r): 0.0727327957587377\n"
     ]
    }
   ],
   "source": [
    "instructional = data[data['instructional'] == 1]['q265'] \n",
    "tenure = data[data['instructional'] == 0]['q265']  \n",
    "\n",
    "# Performing the Mann-Whitney U test\n",
    "stat, p_value = mannwhitneyu(instructional, tenure)\n",
    "\n",
    "# Output the test result\n",
    "print(f'Mann-Whitney U Test Statistic: {stat}')\n",
    "print(f'p-value: {p_value}')\n",
    "\n",
    "\n",
    "# Calculate effect size r\n",
    "n1 = len(instructional)\n",
    "n2 = len(tenure)\n",
    "z = abs(norm.ppf(p_value / 2))  # Z-score for the p-value\n",
    "effect_size = z / np.sqrt(n1 + n2)\n",
    "\n",
    "\n",
    "print(f'Effect Size (r): {effect_size}')"
   ]
  },
  {
   "cell_type": "markdown",
   "metadata": {},
   "source": [
    "Satisfaction at the department level vs at the institution level"
   ]
  },
  {
   "cell_type": "code",
   "execution_count": 24,
   "metadata": {},
   "outputs": [],
   "source": [
    "instructional_data = pd.read_excel('hsi_stem_instructional.xlsx')"
   ]
  },
  {
   "cell_type": "code",
   "execution_count": 28,
   "metadata": {},
   "outputs": [
    {
     "name": "stdout",
     "output_type": "stream",
     "text": [
      "Wilcoxon Test Statistic: 12697.5\n",
      "p-value: 1.1967084565174329e-29\n",
      "Effect Size (r): 0.5778162294632012\n"
     ]
    }
   ],
   "source": [
    "from scipy.stats import wilcoxon\n",
    "\n",
    "dept_satisfaction = instructional_data['q250a']  \n",
    "inst_satisfaction = instructional_data['q250b']  \n",
    "\n",
    "\n",
    "stat, p_value = wilcoxon(dept_satisfaction, inst_satisfaction)\n",
    "\n",
    "\n",
    "print(f'Wilcoxon Test Statistic: {stat}')\n",
    "print(f'p-value: {p_value}')\n",
    "\n",
    "\n",
    "z = abs(norm.ppf(p_value / 2))  \n",
    "\n",
    "# Number of non-zero differences (i.e., exclude zero differences for Wilcoxon test)\n",
    "n = np.sum(dept_satisfaction != inst_satisfaction)\n",
    "\n",
    "# Calculate the effect size r\n",
    "effect_size = z / np.sqrt(n)\n",
    "\n",
    "# Output the effect size\n",
    "print(f'Effect Size (r): {effect_size}')"
   ]
  }
 ],
 "metadata": {
  "kernelspec": {
   "display_name": "base",
   "language": "python",
   "name": "python3"
  },
  "language_info": {
   "codemirror_mode": {
    "name": "ipython",
    "version": 3
   },
   "file_extension": ".py",
   "mimetype": "text/x-python",
   "name": "python",
   "nbconvert_exporter": "python",
   "pygments_lexer": "ipython3",
   "version": "3.8.8"
  }
 },
 "nbformat": 4,
 "nbformat_minor": 2
}
