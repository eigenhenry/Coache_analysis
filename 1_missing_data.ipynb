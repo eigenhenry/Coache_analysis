{
 "cells": [
  {
   "cell_type": "markdown",
   "metadata": {},
   "source": [
    "# Henry Salgado\n",
    "# 08.10.2024\n",
    "\n",
    "This notebook is used to explore missing data in constructs. "
   ]
  },
  {
   "cell_type": "code",
   "execution_count": 2,
   "metadata": {},
   "outputs": [],
   "source": [
    "import pandas as pd\n",
    "import numpy as np\n",
    "data = pd.read_excel(\"hsi_stem_instructional.xlsx\")\n",
    "\n",
    "non_response_codes = [96, 97, 98, 99]\n",
    "\n",
    "\n",
    "# Replace the non-response codes with NaN to mark them as missing values.\n",
    "# This makes it easier to handle missing data during analysis.\n",
    "data.replace(non_response_codes, np.nan, inplace=True)"
   ]
  },
  {
   "cell_type": "code",
   "execution_count": 3,
   "metadata": {},
   "outputs": [
    {
     "name": "stdout",
     "output_type": "stream",
     "text": [
      "Chair_Support: 15.92%\n",
      "Department_feedback_recog: 16.86%\n",
      "Work_life_bal: 20.85%\n",
      "Inst_support: 6.23%\n",
      "health_retirement: 12.39%\n",
      "Relatedness: 14.56%\n",
      "Volition_Autonomy: 7.57%\n",
      "Competence: 7.72%\n",
      "Teaching_and_Service_Satisfaction: 10.47%\n",
      "Global_Satisfaction: 14.01%\n",
      "Missingness for Teaching_and_Service_Satisfaction:\n",
      "  q70a: 6.28%\n",
      "  q70b: 6.39%\n",
      "  q70d: 6.39%\n",
      "  q70e: 7.00%\n",
      "  q70f: 8.14%\n",
      "  q70h: 8.55%\n",
      "  q70j: 17.10%\n",
      "  q70k: 23.89%\n",
      "Average missingness for Teaching_and_Service_Satisfaction: 10.47%\n",
      "\n",
      "Number of participants in the sample: 971\n"
     ]
    }
   ],
   "source": [
    "import numpy as np\n",
    "\n",
    "\n",
    "# Dictionary of constructs with their corresponding items\n",
    "constructs = {\n",
    "    'Chair_Support': ['q185h', 'q185i', 'q185j', 'q185k', 'q185l'],\n",
    "    'Department_feedback_recog': ['q215a', 'q215d','q215i','q215l'],\n",
    "    'Work_life_bal':['q200a','q200b','q200c','q200d'],\n",
    "    'Inst_support': ['q90a','q90c', 'q90f','q90g'],\n",
    "    'health_retirement': ['q95a', 'q95c', 'q200a'],\n",
    "\n",
    "    'Relatedness': ['q205c', 'q210c','q212a', ],\n",
    "    'Volition_Autonomy': ['q70c', 'q70h'],\n",
    "    'Competence': ['q45a', 'q45c','q45e'],\n",
    "\n",
    "    \n",
    "    'Teaching_and_Service_Satisfaction': ['q70a', 'q70b', 'q70d', 'q70e','q70f', 'q70h', 'q70j', 'q70k',  ],\n",
    "    'Global_Satisfaction': [ 'q250a', 'q250b'],\n",
    "}\n",
    "\n",
    "\n",
    "# Function to calculate the average missingness for each construct\n",
    "def calculate_average_missingness(construct, items):\n",
    "    missing_values = data[items].isna().mean()\n",
    "    average_missingness = missing_values.mean()\n",
    "    return average_missingness\n",
    "\n",
    "# Calculate and print the average missingness for each construct\n",
    "average_missingness_results = {construct: calculate_average_missingness(construct, items) for construct, items in constructs.items()}\n",
    "\n",
    "# Displaying the average missingness for each construct\n",
    "for construct, average_missingness in average_missingness_results.items():\n",
    "    print(f\"{construct}: {average_missingness:.2%}\")\n",
    "\n",
    "def print_item_and_average_missingness(construct):\n",
    "    if construct in constructs:\n",
    "        items = constructs[construct]\n",
    "        missing_values = data[items].isna().mean() * 100\n",
    "        print(f\"Missingness for {construct}:\")\n",
    "        for item, missingness in missing_values.items():\n",
    "            print(f\"  {item}: {missingness:.2f}%\")\n",
    "        average_missingness = missing_values.mean()\n",
    "        print(f\"Average missingness for {construct}: {average_missingness:.2f}%\\n\")\n",
    "    else:\n",
    "        print(f\"Construct '{construct}' not found.\")\n",
    "\n",
    "# Example: Print item-wise and average missingness for a specific construct\n",
    "print_item_and_average_missingness('Teaching_and_Service_Satisfaction')\n",
    "\n",
    "num_participants = data.shape[0]\n",
    "print(f\"Number of participants in the sample: {num_participants}\")\n"
   ]
  }
 ],
 "metadata": {
  "kernelspec": {
   "display_name": "base",
   "language": "python",
   "name": "python3"
  },
  "language_info": {
   "codemirror_mode": {
    "name": "ipython",
    "version": 3
   },
   "file_extension": ".py",
   "mimetype": "text/x-python",
   "name": "python",
   "nbconvert_exporter": "python",
   "pygments_lexer": "ipython3",
   "version": "3.10.15"
  }
 },
 "nbformat": 4,
 "nbformat_minor": 2
}
