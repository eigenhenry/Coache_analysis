{
 "cells": [
  {
   "cell_type": "markdown",
   "metadata": {},
   "source": [
    "# Henry Salgado\n",
    "# Date: 10.06.24\n",
    "\n",
    "\n",
    "This notebook performs a Mann-Whitney U test (since the data is not normally distributed). "
   ]
  },
  {
   "cell_type": "code",
   "execution_count": 2,
   "metadata": {},
   "outputs": [],
   "source": [
    "import pandas as pd\n",
    "import numpy as np\n",
    "import scipy \n",
    "\n",
    "instructional_data = pd.read_excel('hsi_stem_instructional.xlsx')"
   ]
  },
  {
   "cell_type": "markdown",
   "metadata": {},
   "source": [
    "Q250A\tDepartment as a place to work - All things considered, your department as a place to work\n",
    "Q250B\tInstitution as a place to work - All things considered, your institution as a place to work"
   ]
  },
  {
   "cell_type": "code",
   "execution_count": 3,
   "metadata": {},
   "outputs": [
    {
     "name": "stdout",
     "output_type": "stream",
     "text": [
      "Wilcoxon Test Statistic: 12697.5\n",
      "p-value: 1.1967084565174329e-29\n",
      "Effect Size (r): 0.5778162294632012\n"
     ]
    }
   ],
   "source": [
    "from scipy.stats import wilcoxon\n",
    "from scipy.stats import norm\n",
    "\n",
    "\n",
    "dept_satisfaction = instructional_data['q250a']  \n",
    "inst_satisfaction = instructional_data['q250b']  \n",
    "\n",
    "\n",
    "stat, p_value = wilcoxon(dept_satisfaction, inst_satisfaction)\n",
    "\n",
    "\n",
    "print(f'Wilcoxon Test Statistic: {stat}')\n",
    "print(f'p-value: {p_value}')\n",
    "\n",
    "\n",
    "z = abs(norm.ppf(p_value / 2))  \n",
    "\n",
    "# Number of non-zero differences (i.e., exclude zero differences for Wilcoxon test)\n",
    "n = np.sum(dept_satisfaction != inst_satisfaction)\n",
    "\n",
    "# Calculate the effect size r\n",
    "effect_size = z / np.sqrt(n)\n",
    "\n",
    "# Output the effect size\n",
    "print(f'Effect Size (r): {effect_size}')"
   ]
  }
 ],
 "metadata": {
  "kernelspec": {
   "display_name": "base",
   "language": "python",
   "name": "python3"
  },
  "language_info": {
   "codemirror_mode": {
    "name": "ipython",
    "version": 3
   },
   "file_extension": ".py",
   "mimetype": "text/x-python",
   "name": "python",
   "nbconvert_exporter": "python",
   "pygments_lexer": "ipython3",
   "version": "3.8.8"
  }
 },
 "nbformat": 4,
 "nbformat_minor": 2
}
