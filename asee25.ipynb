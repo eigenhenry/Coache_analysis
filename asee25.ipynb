{
 "cells": [
  {
   "cell_type": "markdown",
   "metadata": {},
   "source": [
    "# Henry Salgado\n",
    "# Date: 10.06.24\n",
    "\n",
    "\n",
    "This notebook performs a Mann-Whitney U test (since the data is not normally distributed). "
   ]
  },
  {
   "cell_type": "code",
   "execution_count": 29,
   "metadata": {},
   "outputs": [],
   "source": [
    "import pandas as pd\n",
    "import numpy as np\n",
    "import scipy \n",
    "\n",
    "\n",
    "non_response_codes = [96, 97, 98, 99]\n",
    "\n",
    "instructional_data = pd.read_excel('hsi_stem_instructional.xlsx')\n",
    "instructional_data.replace(non_response_codes, np.nan, inplace=True)\n"
   ]
  },
  {
   "cell_type": "markdown",
   "metadata": {},
   "source": [
    "# Questions: \n",
    "* Q250A: Department as a place to work - All things considered, your department as a place to work\n",
    "* Q250B:\tInstitution as a place to work - All things considered, your institution as a place to work"
   ]
  },
  {
   "cell_type": "code",
   "execution_count": 53,
   "metadata": {},
   "outputs": [
    {
     "name": "stdout",
     "output_type": "stream",
     "text": [
      "Wilcoxon Test Statistic: 12697.5\n",
      "p-value: 1.3764787522537598e-05\n",
      "Effect Size (r): 0.2660675746207555\n"
     ]
    }
   ],
   "source": [
    "import numpy as np\n",
    "from scipy.stats import wilcoxon\n",
    "\n",
    "\n",
    "# Ordinal satisfaction scores\n",
    "dept_satisfaction = instructional_data['q250a']  \n",
    "inst_satisfaction = instructional_data['q250b']  \n",
    "\n",
    "# Remove rows where either satisfaction value is NaN\n",
    "valid_data = instructional_data.dropna(subset=['q250a', 'q250b'])\n",
    "\n",
    "# Use the valid (non-NaN) values for analysis\n",
    "dept_satisfaction = valid_data['q250a']\n",
    "inst_satisfaction = valid_data['q250b']\n",
    "\n",
    "# Perform the Wilcoxon signed-rank test\n",
    "stat, p_value = wilcoxon(dept_satisfaction, inst_satisfaction)\n",
    "\n",
    "# Output test results\n",
    "print(f'Wilcoxon Test Statistic: {stat}')\n",
    "print(f'p-value: {p_value}')\n",
    "\n",
    "z = abs(norm.ppf(p_value / 2))  \n",
    "\n",
    "# Number of non-zero differences (i.e., exclude zero differences for Wilcoxon test)\n",
    "n = np.sum(dept_satisfaction != inst_satisfaction)\n",
    "\n",
    "\n",
    "# Calculate the effect size r\n",
    "effect_size = z / np.sqrt(n)\n",
    "\n",
    "# Output the effect size\n",
    "print(f'Effect Size (r): {effect_size}')\n",
    "\n"
   ]
  },
  {
   "cell_type": "markdown",
   "metadata": {},
   "source": [
    "# Insight: \n",
    "The results of a Wilcoxon signed-rank test revealed a statistically significant difference in satisfaction between the department and institution levels (U = 12,697.5, p < 0.001). The effect size is medium (r = 0.266)"
   ]
  },
  {
   "cell_type": "markdown",
   "metadata": {},
   "source": [
    "# Which satisfaction is greater?\n",
    "\n",
    "Let's calculate the medium differences to see which form of satisfaction is better. "
   ]
  },
  {
   "cell_type": "code",
   "execution_count": 52,
   "metadata": {},
   "outputs": [
    {
     "name": "stdout",
     "output_type": "stream",
     "text": [
      "Median of differences (Dept - Inst): 0.0\n",
      "No general difference in satisfaction levels.\n"
     ]
    }
   ],
   "source": [
    "\n",
    "# Calculate the differences between department and institution satisfaction\n",
    "differences = dept_satisfaction - inst_satisfaction\n",
    "\n",
    "# Calculate the median of the differences\n",
    "median_difference = np.median(differences)\n",
    "print(f'Median of differences (Dept - Inst): {median_difference}')\n",
    "\n",
    "# Interpretation for ordinal data\n",
    "if median_difference > 0:\n",
    "    print(\"Department satisfaction is generally higher than institutional satisfaction.\")\n",
    "elif median_difference < 0:\n",
    "    print(\"Institutional satisfaction is generally higher than department satisfaction.\")\n",
    "else:\n",
    "    print(\"No general difference in satisfaction levels.\")"
   ]
  },
  {
   "cell_type": "markdown",
   "metadata": {},
   "source": [
    "# No raw difference?\n",
    "Oddly, there is a statistcal difference, and a medium effect size, yet no raw differences between dep and inst satisfaction. \n",
    "\n",
    "# Using another tool to see differences. \n"
   ]
  },
  {
   "cell_type": "code",
   "execution_count": 35,
   "metadata": {},
   "outputs": [
    {
     "data": {
      "image/png": "[encoded data removed]",
      "text/plain": [
       "<Figure size 432x288 with 1 Axes>"
      ]
     },
     "metadata": {
      "needs_background": "light"
     },
     "output_type": "display_data"
    }
   ],
   "source": [
    "import matplotlib.pyplot as plt\n",
    "\n",
    "# Calculate differences\n",
    "differences = dept_satisfaction - inst_satisfaction\n",
    "\n",
    "# Plot a histogram of the differences\n",
    "plt.hist(differences, bins=10, edgecolor='black')\n",
    "plt.title('Distribution of Differences (Dept - Inst)')\n",
    "plt.xlabel('Difference')\n",
    "plt.ylabel('Frequency')\n",
    "plt.show()\n",
    "\n"
   ]
  },
  {
   "cell_type": "markdown",
   "metadata": {},
   "source": [
    "# Insight \n",
    "\n",
    "The majority of the data is concentrated at a difference of 0, indicating that for most respondents, there is no significant difference between their satisfaction with their department and their satisfaction with their institution.\n",
    "\n",
    "There are more positive differences than negative ones. The bar for a difference of 1 is quite large compared to the bars for negative differences, suggesting that some respondents tend to rate their department satisfaction higher than their institutional satisfaction"
   ]
  },
  {
   "cell_type": "code",
   "execution_count": 36,
   "metadata": {},
   "outputs": [
    {
     "name": "stdout",
     "output_type": "stream",
     "text": [
      "Standard Deviation of Differences: 0.8179743275840511\n",
      "Interquartile Range (IQR) of Differences: 0.0\n"
     ]
    }
   ],
   "source": [
    "std_diff = np.std(differences)\n",
    "iqr_diff = np.percentile(differences, 75) - np.percentile(differences, 25)\n",
    "\n",
    "print(f'Standard Deviation of Differences: {std_diff}')\n",
    "print(f'Interquartile Range (IQR) of Differences: {iqr_diff}')\n"
   ]
  },
  {
   "cell_type": "markdown",
   "metadata": {},
   "source": [
    "# Insight\n",
    "\n",
    "Most respondents have little to no difference in satisfaction between department and institutional levels.\n",
    "However, there are a few extreme cases,  which are significantly driving the variability and contributing to the large effect size.\n",
    "\n",
    "This plot supports the earlier finding: the median and IQR are zero, but the large standard deviation and effect size arise from a small subset of respondents with extreme differences."
   ]
  },
  {
   "cell_type": "code",
   "execution_count": 37,
   "metadata": {},
   "outputs": [
    {
     "data": {
      "image/png": "[encoded data removed]",
      "text/plain": [
       "<Figure size 432x288 with 1 Axes>"
      ]
     },
     "metadata": {
      "needs_background": "light"
     },
     "output_type": "display_data"
    }
   ],
   "source": [
    "import matplotlib.pyplot as plt\n",
    "\n",
    "# Box plot of the differences\n",
    "plt.boxplot(differences, vert=False)\n",
    "plt.title('Box Plot of Differences (Dept - Inst Satisfaction)')\n",
    "plt.xlabel('Difference')\n",
    "plt.show()\n"
   ]
  },
  {
   "cell_type": "code",
   "execution_count": 50,
   "metadata": {},
   "outputs": [
    {
     "name": "stdout",
     "output_type": "stream",
     "text": [
      "67\n"
     ]
    }
   ],
   "source": [
    "outliers = valid_data[(differences < -1) | (differences > 1)]\n",
    "\n",
    "print(len(outliers))"
   ]
  },
  {
   "cell_type": "code",
   "execution_count": 51,
   "metadata": {},
   "outputs": [
    {
     "data": {
      "image/png": "[encoded data removed]",
      "text/plain": [
       "<Figure size 432x288 with 1 Axes>"
      ]
     },
     "metadata": {
      "needs_background": "light"
     },
     "output_type": "display_data"
    }
   ],
   "source": [
    "import matplotlib.pyplot as plt\n",
    "\n",
    "# Scatter plot showing all respondents, with outliers highlighted\n",
    "plt.scatter(valid_data['q250a'], valid_data['q250b'], label=\"Non-Outliers\", alpha=0.5)\n",
    "plt.scatter(outliers['q250a'], outliers['q250b'], color='red', label=\"Outliers\", alpha=0.8)\n",
    "plt.xlabel('Department Satisfaction')\n",
    "plt.ylabel('Institutional Satisfaction')\n",
    "plt.legend()\n",
    "plt.title('Department vs. Institutional Satisfaction (Outliers in Red)')\n",
    "plt.show()\n"
   ]
  },
  {
   "cell_type": "markdown",
   "metadata": {},
   "source": [
    "# Next Steps\n",
    "\n",
    "* Further investigate outliers"
   ]
  }
 ],
 "metadata": {
  "kernelspec": {
   "display_name": "base",
   "language": "python",
   "name": "python3"
  },
  "language_info": {
   "codemirror_mode": {
    "name": "ipython",
    "version": 3
   },
   "file_extension": ".py",
   "mimetype": "text/x-python",
   "name": "python",
   "nbconvert_exporter": "python",
   "pygments_lexer": "ipython3",
   "version": "3.8.8"
  }
 },
 "nbformat": 4,
 "nbformat_minor": 2
}
